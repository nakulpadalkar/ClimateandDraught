{
  "cells": [
    {
      "cell_type": "markdown",
      "metadata": {},
      "source": [
        "# Regression Analysis on Climate Data\n",
        "## Importing Necessary Liberaries\n"
      ],
      "id": "fb2de778"
    },
    {
      "cell_type": "code",
      "metadata": {},
      "source": [
        "import pandas as pd\n",
        "import plotly.express as px"
      ],
      "id": "37dc1fa6",
      "execution_count": null,
      "outputs": []
    },
    {
      "cell_type": "markdown",
      "metadata": {},
      "source": [
        "## Load the dataset"
      ],
      "id": "8215c26f"
    },
    {
      "cell_type": "code",
      "metadata": {},
      "source": [
        "# Load the dataset\n",
        "df = pd.read_csv('./processed_data/NABR_historic.csv')\n",
        "df.drop(columns=['TimePeriod', 'RCP'], axis=1, inplace=True)\n",
        "df.head()"
      ],
      "id": "d9a202ab",
      "execution_count": null,
      "outputs": []
    },
    {
      "cell_type": "markdown",
      "metadata": {},
      "source": [
        "### Missing Values and Data Types\n"
      ],
      "id": "ee9820ad"
    },
    {
      "cell_type": "code",
      "metadata": {},
      "source": [
        "import seaborn as sns\n",
        "import matplotlib.pyplot as plt\n",
        "\n",
        "# Visualize missing values\n",
        "plt.figure(figsize=(15, 10))\n",
        "sns.heatmap(df.drop(columns=['lat', 'long', 'year', 'scenario','treecanopy', 'Ann_Herb', 'Bare', 'Litter', 'Shrub'], axis=1).isnull(), cbar=False, cmap='viridis')\n",
        "plt.title('Missing Data Heatmap', fontsize=16, fontweight='bold', loc='left')\n",
        "plt.xticks(rotation=45) \n",
        "plt.show()"
      ],
      "id": "877b76f0",
      "execution_count": null,
      "outputs": []
    },
    {
      "cell_type": "markdown",
      "metadata": {},
      "source": [
        "## Data Preprocessing\n"
      ],
      "id": "37bb83ce"
    },
    {
      "cell_type": "code",
      "metadata": {},
      "source": [
        "from urllib.request import urlopen\n",
        "import json\n",
        "import plotly.express as px\n",
        "\n",
        "# Load your DataFrame (as an example)\n",
        "df = pd.DataFrame({\n",
        "    'Park Name': ['Arches', 'Canyonlands', 'Hovenweep', 'Natural Bridges'],\n",
        "    'Avg_Temp': [15, 12, 10, 13],  # Average temperature or temperature variation\n",
        "    'Park_ID': ['arches', 'canyonlands', 'hovenweep', 'natural_bridges']  # These should match IDs in your GeoJSON\n",
        "})\n",
        "\n",
        "# Load your GeoJSON data\n",
        "with urlopen('https://geojson.io/#map=7.25/38.411/-111.711.geojson') as response:\n",
        "    parks_geojson = json.load(response)\n",
        "\n",
        "# Assuming your GeoJSON's features have an 'id' or property that matches 'Park_ID' in `df`\n",
        "fig = px.choropleth(df,\n",
        "                    geojson=parks_geojson,\n",
        "                    locations='Park_ID',  # Column in df that matches IDs in GeoJSON\n",
        "                    color='Avg_Temp',\n",
        "                    color_continuous_scale=\"thermal\",\n",
        "                    scope=\"usa\",\n",
        "                    title='Utah National Parks Temperature Variation'\n",
        "                   )\n",
        "fig.update_geos(projection_type=\"natural earth\")\n",
        "fig.update_layout(margin={\"r\":0,\"t\":0,\"l\":0,\"b\":0})\n",
        "fig.show()"
      ],
      "id": "92bac378",
      "execution_count": null,
      "outputs": []
    },
    {
      "cell_type": "markdown",
      "metadata": {},
      "source": [
        "## EDA\n"
      ],
      "id": "1b66f454"
    },
    {
      "cell_type": "code",
      "metadata": {},
      "source": [
        "#| echo: false\n",
        "#| eval: false\n",
        "#| \n",
        "import pandas as pd\n",
        "import plotly.graph_objects as go\n",
        "from plotly.subplots import make_subplots\n",
        "\n",
        "# Assuming df is your DataFrame loaded with the dataset\n",
        "# Calculate summary statistics for vegetation cover variables\n",
        "vegetation_metrics = ['treecanopy', 'Ann_Herb', 'Bare', 'Herb', 'Litter', 'Shrub']\n",
        "summary_stats = df[vegetation_metrics].describe()\n",
        "\n",
        "print(\"Summary Statistics for Vegetation Cover Variables:\")\n",
        "print(summary_stats)\n",
        "\n",
        "# Correlation analysis between climate variables and vegetation cover\n",
        "climate_variables = ['soil_moisture', 'temperature', 'precipitation']\n",
        "correlations = df[vegetation_metrics + climate_variables].corr()\n",
        "print(\"\\nCorrelation matrix:\")\n",
        "print(correlations.loc[climate_variables, vegetation_metrics])\n",
        "\n",
        "# Visualization: Creating scatter plots for each vegetation type vs. a climate variable\n",
        "# This example shows vegetation cover metrics vs. precipitation. Repeat for other climate variables as needed.\n",
        "fig = make_subplots(rows=3, cols=2, subplot_titles=vegetation_metrics)\n",
        "\n",
        "for i, veg_metric in enumerate(vegetation_metrics, 1):\n",
        "    fig.add_trace(\n",
        "        go.Scatter(x=df['precipitation'], y=df[veg_metric], mode='markers', name=veg_metric),\n",
        "        row=(i-1)//2 + 1, col=(i-1)%2 + 1\n",
        "    )\n",
        "\n",
        "fig.update_layout(height=1200, width=800, title_text=\"Vegetation Cover Metrics vs. Precipitation\")\n",
        "fig.show()"
      ],
      "id": "7d99a475",
      "execution_count": null,
      "outputs": []
    },
    {
      "cell_type": "code",
      "metadata": {},
      "source": [
        "import pandas as pd\n",
        "import plotly.graph_objects as go\n",
        "import plotly.offline as pyo\n",
        "\n",
        "pyo.init_notebook_mode(connected=True)\n",
        "\n",
        "# Assuming df is your DataFrame\n",
        "# Engineering features\n",
        "df['Annual_Soil_Moisture'] = df[['VWC_Winter_whole', 'VWC_Spring_whole', 'VWC_Summer_whole', 'VWC_Fall_whole']].mean(axis=1)\n",
        "df['Annual_Temperature'] = df['T_Annual']\n",
        "df['Annual_Precipitation'] = df['PPT_Annual']\n",
        "\n",
        "vegetation_variables = ['treecanopy', 'Ann_Herb', 'Bare', 'Herb', 'Litter', 'Shrub']\n",
        "\n",
        "# Set up the matplotlib figure\n",
        "for veg_var in vegetation_variables:\n",
        "    # Precipitation vs Vegetation\n",
        "    plt.figure(figsize=(8, 5.5))\n",
        "    sns.scatterplot(data=df, x='Annual_Precipitation', y=veg_var, color='#E8B989')\n",
        "    plt.title(f'Annual Precipitation vs {veg_var}')\n",
        "    plt.xlabel('Annual Precipitation (mm)')\n",
        "    plt.ylabel(f'{veg_var} Coverage')\n",
        "    plt.show()\n",
        "\n",
        "    # Temperature vs Vegetation\n",
        "    plt.figure(figsize=(8, 5.5))\n",
        "    sns.scatterplot(data=df, x='Annual_Temperature', y=veg_var, color='#E8B989')\n",
        "    plt.title(f'Annual Temperature vs {veg_var}')\n",
        "    plt.xlabel('Annual Temperature (°C)')\n",
        "    plt.ylabel(f'{veg_var} Coverage')\n",
        "    plt.show()\n",
        "\n",
        "    # Soil Moisture vs Vegetation\n",
        "    plt.figure(figsize=(8, 5.5))\n",
        "    sns.scatterplot(data=df, x='Annual_Soil_Moisture', y=veg_var, color='#E8B989')\n",
        "    plt.title(f'Annual Soil Moisture vs {veg_var}')\n",
        "    plt.xlabel('Annual Soil Moisture')\n",
        "    plt.ylabel(f'{veg_var} Coverage')\n",
        "    plt.show()"
      ],
      "id": "95787dcb",
      "execution_count": null,
      "outputs": []
    }
  ],
  "metadata": {
    "kernelspec": {
      "name": "python3",
      "language": "python",
      "display_name": "Python 3 (ipykernel)"
    }
  },
  "nbformat": 4,
  "nbformat_minor": 5
}